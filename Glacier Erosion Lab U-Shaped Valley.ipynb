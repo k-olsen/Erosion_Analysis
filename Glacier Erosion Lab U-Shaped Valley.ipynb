{
 "cells": [
  {
   "cell_type": "markdown",
   "metadata": {
    "collapsed": true
   },
   "source": [
    "# Glacial-Erosion Lab \n",
    "### Run the cells below in order. Some cells require calculations, some require written (text) answers to questions."
   ]
  },
  {
   "cell_type": "code",
   "execution_count": 24,
   "metadata": {},
   "outputs": [],
   "source": [
    "# Run this cell first to import libraries\n",
    "\n",
    "%matplotlib inline\n",
    "import numpy as np\n",
    "import matplotlib.pyplot as plt\n",
    "import random"
   ]
  },
  {
   "cell_type": "code",
   "execution_count": 1,
   "metadata": {},
   "outputs": [
    {
     "name": "stdout",
     "output_type": "stream",
     "text": [
      "This lab was completed by Student 1 and Student 2\n"
     ]
    }
   ],
   "source": [
    "#Fill in your names here\n",
    "P1 = 'Student 1'\n",
    "P2 = 'Student 2'\n",
    "\n",
    "\n",
    "print('This lab was completed by %s and %s' %(P1,P2)) # Example of printing the output of a cell"
   ]
  },
  {
   "cell_type": "code",
   "execution_count": 2,
   "metadata": {},
   "outputs": [],
   "source": [
    "d_sed = 2.4*10**4 #m3/yr of sediment discharged\n",
    "A = 12*10**6 #m2 area of glaciation"
   ]
  },
  {
   "cell_type": "code",
   "execution_count": 3,
   "metadata": {},
   "outputs": [
    {
     "name": "stdout",
     "output_type": "stream",
     "text": [
      "0.002\n"
     ]
    }
   ],
   "source": [
    "E_av = d_sed/A #Average erosion rate\n",
    "print(E_av)"
   ]
  },
  {
   "cell_type": "markdown",
   "metadata": {},
   "source": [
    "What are the units for average erosion rate? \n",
    "    Type your answer in the cell below.\n",
    "    You can do SHIFT+ENTER to \"run\" this cell, too"
   ]
  },
  {
   "cell_type": "markdown",
   "metadata": {
    "collapsed": true
   },
   "source": []
  },
  {
   "cell_type": "markdown",
   "metadata": {},
   "source": [
    "What is the average erosion rate in mm/yr? \n"
   ]
  },
  {
   "cell_type": "code",
   "execution_count": 4,
   "metadata": {},
   "outputs": [
    {
     "data": {
      "text/plain": [
       "2.0"
      ]
     },
     "execution_count": 4,
     "metadata": {},
     "output_type": "execute_result"
    }
   ],
   "source": [
    "E_av*1000\n"
   ]
  },
  {
   "cell_type": "markdown",
   "metadata": {},
   "source": [
    "## Scenario 1: Assume the erosion rate at the base of the glacier, E, is equal at all points along the cross section\n"
   ]
  },
  {
   "cell_type": "code",
   "execution_count": 8,
   "metadata": {},
   "outputs": [
    {
     "data": {
      "text/plain": [
       "[<matplotlib.lines.Line2D at 0x11bee7490>]"
      ]
     },
     "execution_count": 8,
     "metadata": {},
     "output_type": "execute_result"
    },
    {
     "data": {
      "image/png": "[encoded data removed]",
      "text/plain": [
       "<Figure size 432x288 with 1 Axes>"
      ]
     },
     "metadata": {
      "needs_background": "light"
     },
     "output_type": "display_data"
    }
   ],
   "source": [
    "s0 = 2000 #surface 0, starting surface elevation [m]\n",
    "W = 1200 # Glacier width [m]\n",
    "\n",
    "plt.figure()\n",
    "plt.xlim(0,W+1000)\n",
    "plt.ylim(0,3000)\n",
    "plt.plot((100,100+W),(s0,s0))"
   ]
  },
  {
   "cell_type": "markdown",
   "metadata": {},
   "source": [
    "## Given this assumed erosion rate, plot the glacier surface after 500, 1,000, and 10,000 years. Notice what the scale is on the y-axis."
   ]
  },
  {
   "cell_type": "code",
   "execution_count": 9,
   "metadata": {},
   "outputs": [
    {
     "data": {
      "text/plain": [
       "[<matplotlib.lines.Line2D at 0x11bf47760>]"
      ]
     },
     "execution_count": 9,
     "metadata": {},
     "output_type": "execute_result"
    },
    {
     "data": {
      "image/png": "[encoded data removed]",
      "text/plain": [
       "<Figure size 432x288 with 1 Axes>"
      ]
     },
     "metadata": {
      "needs_background": "light"
     },
     "output_type": "display_data"
    }
   ],
   "source": [
    "t1 = 10000 #years\n",
    "\n",
    "t_list = [t1]\n",
    "\n",
    "# Instead of changing the variable 't' each time, you can define several variable (t1, t2, etc.) and add them to 't_list'\n",
    "\n",
    "\n",
    "# Surface 2 (which you are calculating now). Leave everything below here as is. \n",
    "for i in t_list:\n",
    "    s1 = s0 - E_av*i#surface 2\n",
    "\n",
    "\n",
    "plt.figure()\n",
    "plt.xlim(0,W+1000)\n",
    "plt.ylim(1900,2100)\n",
    "plt.plot((100,100+W),(s0,s0), color = 'b', alpha = 0.3)\n",
    "plt.plot((100,100+W),(s1,s1), color = 'r')"
   ]
  },
  {
   "cell_type": "code",
   "execution_count": 11,
   "metadata": {},
   "outputs": [
    {
     "name": "stdout",
     "output_type": "stream",
     "text": [
      "20.0\n",
      "0.002\n"
     ]
    }
   ],
   "source": [
    "print(t1*E_av)\n",
    "print(E_av)"
   ]
  },
  {
   "cell_type": "markdown",
   "metadata": {},
   "source": [
    "## What are some limitatons to this modeling approach? Do you think this model acurately described erosion beneath a glacier?"
   ]
  },
  {
   "cell_type": "markdown",
   "metadata": {},
   "source": []
  },
  {
   "cell_type": "markdown",
   "metadata": {},
   "source": []
  },
  {
   "cell_type": "code",
   "execution_count": 14,
   "metadata": {},
   "outputs": [
    {
     "name": "stdout",
     "output_type": "stream",
     "text": [
      "1200\n",
      "[10, 12, 14, 16, 18, 20, 22, 24, 26, 28, 30, 31, 32, 33, 34, 35, 36, 37, 38, 39, 40, 40, 40, 40, 40, 40, 40, 40, 40, 40, 40, 40, 40, 40, 40, 40, 40, 40, 40, 40, 40, 40, 40, 40, 40, 40, 40, 40, 40, 40, 39, 38, 37, 36, 35, 34, 33, 32, 31, 30, 28, 26, 24, 22, 20, 18, 16, 14, 12, 10]\n",
      "70\n",
      "70\n",
      "[  17.12857143   34.25714286   51.38571429   68.51428571   85.64285714\n",
      "  102.77142857  119.9         137.02857143  154.15714286  171.28571429\n",
      "  188.41428571  205.54285714  222.67142857  239.8         256.92857143\n",
      "  274.05714286  291.18571429  308.31428571  325.44285714  342.57142857\n",
      "  359.7         376.82857143  393.95714286  411.08571429  428.21428571\n",
      "  445.34285714  462.47142857  479.6         496.72857143  513.85714286\n",
      "  530.98571429  548.11428571  565.24285714  582.37142857  599.5\n",
      "  616.62857143  633.75714286  650.88571429  668.01428571  685.14285714\n",
      "  702.27142857  719.4         736.52857143  753.65714286  770.78571429\n",
      "  787.91428571  805.04285714  822.17142857  839.3         856.42857143\n",
      "  873.55714286  890.68571429  907.81428571  924.94285714  942.07142857\n",
      "  959.2         976.32857143  993.45714286 1010.58571429 1027.71428571\n",
      " 1044.84285714 1061.97142857 1079.1        1096.22857143 1113.35714286\n",
      " 1130.48571429 1147.61428571 1164.74285714 1181.87142857 1199.        ]\n"
     ]
    },
    {
     "data": {
      "text/plain": [
       "Text(0.5, 0, 'Distance across valley [m]')"
      ]
     },
     "execution_count": 14,
     "metadata": {},
     "output_type": "execute_result"
    },
    {
     "data": {
      "image/png": "[encoded data removed]",
      "text/plain": [
       "<Figure size 432x288 with 1 Axes>"
      ]
     },
     "metadata": {
      "needs_background": "light"
     },
     "output_type": "display_data"
    }
   ],
   "source": [
    "print(W)\n",
    "\n",
    "\n",
    "#basal ice velocity [m/yr]\n",
    "Ub = [10,12,14,16,18,20,22,24,26,28,30,31,32,33,34,35,36,37,38,39,40,40,40,40,40,40,40,40,40,40,40,40,40,40,40,40,40,40,40,40,40,40,40,40,40,40,40,40,40,40,39, 38, 37, 36, 35, 34, 33, 32, 31, 30, 28, 26, 24, 22, 20, 18, 16, 14, 12, 10] \n",
    "\n",
    "W_segs = np.arange(0,W,(W-1)/len(Ub)) #discretized version of W. Start, stop, step.\n",
    "W_segs = W_segs[1::]\n",
    "\n",
    "s0 = [2000]* len(W_segs) #better to have s0 be a list, not an integer\n",
    "\n",
    "# Un-comment these lines to look at lists of data\n",
    "#print(Ub)\n",
    "#print(len(Ub))\n",
    "#print(len(W_segs))\n",
    "#print(W_segs)\n",
    "\n",
    "plt.figure()\n",
    "plt.scatter(range(len(Ub)),Ub)\n",
    "plt.title('Ice velocity across valley')\n",
    "plt.ylabel('Basal ice velocity [m/yr]')\n",
    "plt.xlabel('Distance across valley [m]')"
   ]
  },
  {
   "cell_type": "code",
   "execution_count": 15,
   "metadata": {},
   "outputs": [
    {
     "name": "stdout",
     "output_type": "stream",
     "text": [
      "0.0010572687224669603\n"
     ]
    }
   ],
   "source": [
    "A = (E_av*W)/np.sum(Ub) #A = erosion constant\n",
    "print(A)"
   ]
  },
  {
   "cell_type": "markdown",
   "metadata": {},
   "source": [
    "## Scenario 2: Assume the erosion rate along the base of the glacier is controlled by the velocity of the ice at the bed (basal ice velocity, or $V_b$), given by: \n",
    "\n",
    "$E = A * V_b ^2$\n",
    "\n",
    "## Plot the location of the glacier bed every 10,000 years out to 100,000 years in the future"
   ]
  },
  {
   "cell_type": "code",
   "execution_count": 16,
   "metadata": {},
   "outputs": [],
   "source": [
    "#Set up\n",
    "E_segs = []\n",
    "\n",
    "for i in Ub:\n",
    "    E_segs.append(A*i**2) #E = erosion rate [m/yr]"
   ]
  },
  {
   "cell_type": "code",
   "execution_count": 19,
   "metadata": {},
   "outputs": [
    {
     "data": {
      "text/plain": [
       "Text(0, 0.5, 'Valley Depth [m]')"
      ]
     },
     "execution_count": 19,
     "metadata": {},
     "output_type": "execute_result"
    },
    {
     "data": {
      "image/png": "[encoded data removed]",
      "text/plain": [
       "<Figure size 432x288 with 1 Axes>"
      ]
     },
     "metadata": {
      "needs_background": "light"
     },
     "output_type": "display_data"
    }
   ],
   "source": [
    "# Plot a new figure that includes the original ice surface, the ice surface from scenario 1, and this new ice surface\n",
    "\n",
    "time = 50\n",
    "\n",
    "t_list = [100,200,300,400,500,600,700,800,900,1000]\n",
    "\n",
    "# Code to leave as is\n",
    "plt.figure()\n",
    "plt.xlim(-500,W+500)\n",
    "plt.ylim(0,3000)\n",
    "plt.plot((0,W),(s0,s0), color = 'b', alpha = 0.3)\n",
    "plt.plot((0,W),(s1,s1), color = 'm')\n",
    "\n",
    "\n",
    "\n",
    "s2 = [] #set s2 to start as an empty list\n",
    "# any letter can be used as a variable in a loop (like j is doing here)\n",
    "for j in range(len(E_segs)):\n",
    "    s2.append(s0[j] - (E_segs[j]*time))\n",
    "\n",
    "\n",
    "plt.scatter(W_segs,s2, color = 'm', s = 10) # Order of inputs: (x, y, color = color, s = size of points\n",
    "\n",
    "\n",
    "count = 1\n",
    "for k in t_list:\n",
    "    s2 = []\n",
    "    for j in range(len(E_segs)):\n",
    "        s2.append(s0[j] - (E_segs[j]*k))\n",
    "    plt.scatter(W_segs,s2, color = 'darkblue', s = 10, alpha = (count*0.1)) # Order of inputs: (x, y, color = color, s = size of points, alpha = transparency)\n",
    "    \n",
    "    # print((1-count*0.1))\n",
    "    count +=1\n",
    "\n",
    "plt.title('Location of glacier bed at 10,000 year timesteps')\n",
    "plt.xlabel('Distance across valley [m]')\n",
    "plt.ylabel('Valley Depth [m]')"
   ]
  },
  {
   "cell_type": "markdown",
   "metadata": {},
   "source": [
    "Assume that before this glacier carved out this valley topography was flat (i.e., what is now the empty space within the valley was all previously rock). What volume of rock was removed by this glacier over 100,000 years? The glacial valley is 10 km long. \n",
    "\n",
    "Perform calculations in the cell below. "
   ]
  },
  {
   "cell_type": "code",
   "execution_count": null,
   "metadata": {
    "collapsed": true
   },
   "outputs": [],
   "source": []
  },
  {
   "cell_type": "markdown",
   "metadata": {},
   "source": [
    "Where is this rock now, and what does it look like? Describe the evidence that a geologist who came upon a deposit from this glacier (after the glacier ice had completely melted) might use to determine that these sediments had a glacial origin.  "
   ]
  },
  {
   "cell_type": "markdown",
   "metadata": {},
   "source": []
  }
 ],
 "metadata": {
  "kernelspec": {
   "display_name": "Python 3",
   "language": "python",
   "name": "python3"
  },
  "language_info": {
   "codemirror_mode": {
    "name": "ipython",
    "version": 3
   },
   "file_extension": ".py",
   "mimetype": "text/x-python",
   "name": "python",
   "nbconvert_exporter": "python",
   "pygments_lexer": "ipython3",
   "version": "3.8.2"
  }
 },
 "nbformat": 4,
 "nbformat_minor": 2
}
